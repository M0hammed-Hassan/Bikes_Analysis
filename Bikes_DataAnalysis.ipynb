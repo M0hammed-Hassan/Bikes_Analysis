{
 "cells": [
  {
   "cell_type": "code",
   "execution_count": 1,
   "id": "979365ac",
   "metadata": {},
   "outputs": [],
   "source": [
    "#Libraries\n",
    "import pandas as pd\n",
    "import seaborn as sns\n",
    "from datetime import datetime"
   ]
  },
  {
   "cell_type": "code",
   "execution_count": 2,
   "id": "0a2c4276",
   "metadata": {},
   "outputs": [
    {
     "data": {
      "text/html": [
       "<div>\n",
       "<style scoped>\n",
       "    .dataframe tbody tr th:only-of-type {\n",
       "        vertical-align: middle;\n",
       "    }\n",
       "\n",
       "    .dataframe tbody tr th {\n",
       "        vertical-align: top;\n",
       "    }\n",
       "\n",
       "    .dataframe thead th {\n",
       "        text-align: right;\n",
       "    }\n",
       "</style>\n",
       "<table border=\"1\" class=\"dataframe\">\n",
       "  <thead>\n",
       "    <tr style=\"text-align: right;\">\n",
       "      <th></th>\n",
       "      <th>datetime</th>\n",
       "      <th>season</th>\n",
       "      <th>holiday</th>\n",
       "      <th>workingday</th>\n",
       "      <th>weather</th>\n",
       "      <th>temp</th>\n",
       "      <th>humidity</th>\n",
       "      <th>windspeed</th>\n",
       "      <th>casual</th>\n",
       "      <th>registered</th>\n",
       "      <th>rented_bikes_count</th>\n",
       "    </tr>\n",
       "  </thead>\n",
       "  <tbody>\n",
       "    <tr>\n",
       "      <th>0</th>\n",
       "      <td>2011-01-01 00:00:00</td>\n",
       "      <td>Spring</td>\n",
       "      <td>0.0</td>\n",
       "      <td>0.0</td>\n",
       "      <td>Clear</td>\n",
       "      <td>9.84</td>\n",
       "      <td>81.0</td>\n",
       "      <td>NaN</td>\n",
       "      <td>3</td>\n",
       "      <td>13</td>\n",
       "      <td>16</td>\n",
       "    </tr>\n",
       "    <tr>\n",
       "      <th>1</th>\n",
       "      <td>2011-01-01 01:00:00</td>\n",
       "      <td>Spring</td>\n",
       "      <td>0.0</td>\n",
       "      <td>0.0</td>\n",
       "      <td>NaN</td>\n",
       "      <td>9.02</td>\n",
       "      <td>80.0</td>\n",
       "      <td>0.0000</td>\n",
       "      <td>8</td>\n",
       "      <td>32</td>\n",
       "      <td>40</td>\n",
       "    </tr>\n",
       "    <tr>\n",
       "      <th>2</th>\n",
       "      <td>2011-01-01 02:00:00</td>\n",
       "      <td>Spring</td>\n",
       "      <td>0.0</td>\n",
       "      <td>0.0</td>\n",
       "      <td>Clear</td>\n",
       "      <td>9.02</td>\n",
       "      <td>NaN</td>\n",
       "      <td>0.0000</td>\n",
       "      <td>5</td>\n",
       "      <td>27</td>\n",
       "      <td>32</td>\n",
       "    </tr>\n",
       "    <tr>\n",
       "      <th>3</th>\n",
       "      <td>2011-01-01 03:00:00</td>\n",
       "      <td>Spring</td>\n",
       "      <td>0.0</td>\n",
       "      <td>0.0</td>\n",
       "      <td>Clear</td>\n",
       "      <td>9.84</td>\n",
       "      <td>75.0</td>\n",
       "      <td>0.0000</td>\n",
       "      <td>3</td>\n",
       "      <td>10</td>\n",
       "      <td>13</td>\n",
       "    </tr>\n",
       "    <tr>\n",
       "      <th>4</th>\n",
       "      <td>2011-01-01 04:00:00</td>\n",
       "      <td>NaN</td>\n",
       "      <td>0.0</td>\n",
       "      <td>0.0</td>\n",
       "      <td>Clear</td>\n",
       "      <td>NaN</td>\n",
       "      <td>75.0</td>\n",
       "      <td>NaN</td>\n",
       "      <td>0</td>\n",
       "      <td>1</td>\n",
       "      <td>1</td>\n",
       "    </tr>\n",
       "    <tr>\n",
       "      <th>5</th>\n",
       "      <td>2011-01-01 05:00:00</td>\n",
       "      <td>NaN</td>\n",
       "      <td>0.0</td>\n",
       "      <td>NaN</td>\n",
       "      <td>Mist</td>\n",
       "      <td>9.84</td>\n",
       "      <td>NaN</td>\n",
       "      <td>6.0032</td>\n",
       "      <td>0</td>\n",
       "      <td>1</td>\n",
       "      <td>1</td>\n",
       "    </tr>\n",
       "    <tr>\n",
       "      <th>6</th>\n",
       "      <td>2011-01-01 06:00:00</td>\n",
       "      <td>Spring</td>\n",
       "      <td>0.0</td>\n",
       "      <td>0.0</td>\n",
       "      <td>Clear</td>\n",
       "      <td>NaN</td>\n",
       "      <td>NaN</td>\n",
       "      <td>0.0000</td>\n",
       "      <td>2</td>\n",
       "      <td>0</td>\n",
       "      <td>2</td>\n",
       "    </tr>\n",
       "  </tbody>\n",
       "</table>\n",
       "</div>"
      ],
      "text/plain": [
       "              datetime  season  holiday  workingday weather  temp  humidity  \\\n",
       "0  2011-01-01 00:00:00  Spring      0.0         0.0   Clear  9.84      81.0   \n",
       "1  2011-01-01 01:00:00  Spring      0.0         0.0     NaN  9.02      80.0   \n",
       "2  2011-01-01 02:00:00  Spring      0.0         0.0   Clear  9.02       NaN   \n",
       "3  2011-01-01 03:00:00  Spring      0.0         0.0   Clear  9.84      75.0   \n",
       "4  2011-01-01 04:00:00     NaN      0.0         0.0   Clear   NaN      75.0   \n",
       "5  2011-01-01 05:00:00     NaN      0.0         NaN    Mist  9.84       NaN   \n",
       "6  2011-01-01 06:00:00  Spring      0.0         0.0   Clear   NaN       NaN   \n",
       "\n",
       "   windspeed  casual  registered  rented_bikes_count  \n",
       "0        NaN       3          13                  16  \n",
       "1     0.0000       8          32                  40  \n",
       "2     0.0000       5          27                  32  \n",
       "3     0.0000       3          10                  13  \n",
       "4        NaN       0           1                   1  \n",
       "5     6.0032       0           1                   1  \n",
       "6     0.0000       2           0                   2  "
      ]
     },
     "execution_count": 2,
     "metadata": {},
     "output_type": "execute_result"
    }
   ],
   "source": [
    "#Read csv file\n",
    "df=pd.read_csv('bikes.csv')\n",
    "df.head(7)"
   ]
  },
  {
   "cell_type": "code",
   "execution_count": 3,
   "id": "abb5d649",
   "metadata": {},
   "outputs": [],
   "source": [
    "#Divide datetime into two series date and time.\n",
    "df['Date']=df['datetime'].apply(lambda d:d.split(' ')[0])\n",
    "df['Time']=df['datetime'].apply(lambda t:t.split(' ')[1])\n",
    "#Delete datetime series\n",
    "df.drop('datetime',axis=1,inplace=True)"
   ]
  },
  {
   "cell_type": "code",
   "execution_count": 4,
   "id": "bc1d3b6f",
   "metadata": {},
   "outputs": [
    {
     "data": {
      "text/html": [
       "<div>\n",
       "<style scoped>\n",
       "    .dataframe tbody tr th:only-of-type {\n",
       "        vertical-align: middle;\n",
       "    }\n",
       "\n",
       "    .dataframe tbody tr th {\n",
       "        vertical-align: top;\n",
       "    }\n",
       "\n",
       "    .dataframe thead th {\n",
       "        text-align: right;\n",
       "    }\n",
       "</style>\n",
       "<table border=\"1\" class=\"dataframe\">\n",
       "  <thead>\n",
       "    <tr style=\"text-align: right;\">\n",
       "      <th></th>\n",
       "      <th>season</th>\n",
       "      <th>holiday</th>\n",
       "      <th>workingday</th>\n",
       "      <th>weather</th>\n",
       "      <th>temp</th>\n",
       "      <th>humidity</th>\n",
       "      <th>windspeed</th>\n",
       "      <th>casual</th>\n",
       "      <th>registered</th>\n",
       "      <th>rented_bikes_count</th>\n",
       "      <th>Date</th>\n",
       "      <th>Time</th>\n",
       "    </tr>\n",
       "  </thead>\n",
       "  <tbody>\n",
       "    <tr>\n",
       "      <th>0</th>\n",
       "      <td>Spring</td>\n",
       "      <td>0.0</td>\n",
       "      <td>0.0</td>\n",
       "      <td>Clear</td>\n",
       "      <td>9.84</td>\n",
       "      <td>81.0</td>\n",
       "      <td>NaN</td>\n",
       "      <td>3</td>\n",
       "      <td>13</td>\n",
       "      <td>16</td>\n",
       "      <td>2011-01-01</td>\n",
       "      <td>00:00:00</td>\n",
       "    </tr>\n",
       "    <tr>\n",
       "      <th>1</th>\n",
       "      <td>Spring</td>\n",
       "      <td>0.0</td>\n",
       "      <td>0.0</td>\n",
       "      <td>NaN</td>\n",
       "      <td>9.02</td>\n",
       "      <td>80.0</td>\n",
       "      <td>0.0000</td>\n",
       "      <td>8</td>\n",
       "      <td>32</td>\n",
       "      <td>40</td>\n",
       "      <td>2011-01-01</td>\n",
       "      <td>01:00:00</td>\n",
       "    </tr>\n",
       "    <tr>\n",
       "      <th>2</th>\n",
       "      <td>Spring</td>\n",
       "      <td>0.0</td>\n",
       "      <td>0.0</td>\n",
       "      <td>Clear</td>\n",
       "      <td>9.02</td>\n",
       "      <td>NaN</td>\n",
       "      <td>0.0000</td>\n",
       "      <td>5</td>\n",
       "      <td>27</td>\n",
       "      <td>32</td>\n",
       "      <td>2011-01-01</td>\n",
       "      <td>02:00:00</td>\n",
       "    </tr>\n",
       "    <tr>\n",
       "      <th>3</th>\n",
       "      <td>Spring</td>\n",
       "      <td>0.0</td>\n",
       "      <td>0.0</td>\n",
       "      <td>Clear</td>\n",
       "      <td>9.84</td>\n",
       "      <td>75.0</td>\n",
       "      <td>0.0000</td>\n",
       "      <td>3</td>\n",
       "      <td>10</td>\n",
       "      <td>13</td>\n",
       "      <td>2011-01-01</td>\n",
       "      <td>03:00:00</td>\n",
       "    </tr>\n",
       "    <tr>\n",
       "      <th>4</th>\n",
       "      <td>NaN</td>\n",
       "      <td>0.0</td>\n",
       "      <td>0.0</td>\n",
       "      <td>Clear</td>\n",
       "      <td>NaN</td>\n",
       "      <td>75.0</td>\n",
       "      <td>NaN</td>\n",
       "      <td>0</td>\n",
       "      <td>1</td>\n",
       "      <td>1</td>\n",
       "      <td>2011-01-01</td>\n",
       "      <td>04:00:00</td>\n",
       "    </tr>\n",
       "    <tr>\n",
       "      <th>5</th>\n",
       "      <td>NaN</td>\n",
       "      <td>0.0</td>\n",
       "      <td>NaN</td>\n",
       "      <td>Mist</td>\n",
       "      <td>9.84</td>\n",
       "      <td>NaN</td>\n",
       "      <td>6.0032</td>\n",
       "      <td>0</td>\n",
       "      <td>1</td>\n",
       "      <td>1</td>\n",
       "      <td>2011-01-01</td>\n",
       "      <td>05:00:00</td>\n",
       "    </tr>\n",
       "    <tr>\n",
       "      <th>6</th>\n",
       "      <td>Spring</td>\n",
       "      <td>0.0</td>\n",
       "      <td>0.0</td>\n",
       "      <td>Clear</td>\n",
       "      <td>NaN</td>\n",
       "      <td>NaN</td>\n",
       "      <td>0.0000</td>\n",
       "      <td>2</td>\n",
       "      <td>0</td>\n",
       "      <td>2</td>\n",
       "      <td>2011-01-01</td>\n",
       "      <td>06:00:00</td>\n",
       "    </tr>\n",
       "  </tbody>\n",
       "</table>\n",
       "</div>"
      ],
      "text/plain": [
       "   season  holiday  workingday weather  temp  humidity  windspeed  casual  \\\n",
       "0  Spring      0.0         0.0   Clear  9.84      81.0        NaN       3   \n",
       "1  Spring      0.0         0.0     NaN  9.02      80.0     0.0000       8   \n",
       "2  Spring      0.0         0.0   Clear  9.02       NaN     0.0000       5   \n",
       "3  Spring      0.0         0.0   Clear  9.84      75.0     0.0000       3   \n",
       "4     NaN      0.0         0.0   Clear   NaN      75.0        NaN       0   \n",
       "5     NaN      0.0         NaN    Mist  9.84       NaN     6.0032       0   \n",
       "6  Spring      0.0         0.0   Clear   NaN       NaN     0.0000       2   \n",
       "\n",
       "   registered  rented_bikes_count        Date      Time  \n",
       "0          13                  16  2011-01-01  00:00:00  \n",
       "1          32                  40  2011-01-01  01:00:00  \n",
       "2          27                  32  2011-01-01  02:00:00  \n",
       "3          10                  13  2011-01-01  03:00:00  \n",
       "4           1                   1  2011-01-01  04:00:00  \n",
       "5           1                   1  2011-01-01  05:00:00  \n",
       "6           0                   2  2011-01-01  06:00:00  "
      ]
     },
     "execution_count": 4,
     "metadata": {},
     "output_type": "execute_result"
    }
   ],
   "source": [
    "df.head(7)"
   ]
  },
  {
   "cell_type": "code",
   "execution_count": 5,
   "id": "9db4cfed",
   "metadata": {},
   "outputs": [
    {
     "name": "stdout",
     "output_type": "stream",
     "text": [
      "<class 'pandas.core.frame.DataFrame'>\n",
      "RangeIndex: 10886 entries, 0 to 10885\n",
      "Data columns (total 12 columns):\n",
      " #   Column              Non-Null Count  Dtype  \n",
      "---  ------              --------------  -----  \n",
      " 0   season              10672 non-null  object \n",
      " 1   holiday             10030 non-null  float64\n",
      " 2   workingday          9388 non-null   float64\n",
      " 3   weather             8746 non-null   object \n",
      " 4   temp                8104 non-null   float64\n",
      " 5   humidity            7462 non-null   float64\n",
      " 6   windspeed           6820 non-null   float64\n",
      " 7   casual              10886 non-null  int64  \n",
      " 8   registered          10886 non-null  int64  \n",
      " 9   rented_bikes_count  10886 non-null  int64  \n",
      " 10  Date                10886 non-null  object \n",
      " 11  Time                10886 non-null  object \n",
      "dtypes: float64(5), int64(3), object(4)\n",
      "memory usage: 1020.7+ KB\n"
     ]
    }
   ],
   "source": [
    "df.info()"
   ]
  },
  {
   "cell_type": "code",
   "execution_count": 6,
   "id": "f5bbdf6a",
   "metadata": {},
   "outputs": [
    {
     "data": {
      "text/plain": [
       "season                 214\n",
       "holiday                856\n",
       "workingday            1498\n",
       "weather               2140\n",
       "temp                  2782\n",
       "humidity              3424\n",
       "windspeed             4066\n",
       "casual                   0\n",
       "registered               0\n",
       "rented_bikes_count       0\n",
       "Date                     0\n",
       "Time                     0\n",
       "dtype: int64"
      ]
     },
     "execution_count": 6,
     "metadata": {},
     "output_type": "execute_result"
    }
   ],
   "source": [
    "#Data nans\n",
    "df.isna().sum()"
   ]
  },
  {
   "cell_type": "code",
   "execution_count": 7,
   "id": "8e09d0c7",
   "metadata": {},
   "outputs": [
    {
     "name": "stderr",
     "output_type": "stream",
     "text": [
      "C:\\Users\\User\\anaconda3\\lib\\site-packages\\pandas\\core\\indexing.py:1637: SettingWithCopyWarning: \n",
      "A value is trying to be set on a copy of a slice from a DataFrame\n",
      "\n",
      "See the caveats in the documentation: https://pandas.pydata.org/pandas-docs/stable/user_guide/indexing.html#returning-a-view-versus-a-copy\n",
      "  self._setitem_single_block(indexer, value, name)\n"
     ]
    },
    {
     "data": {
      "text/plain": [
       "0"
      ]
     },
     "execution_count": 7,
     "metadata": {},
     "output_type": "execute_result"
    }
   ],
   "source": [
    "#Correct nans in season\n",
    "cnt=0\n",
    "for i in df['Date']:\n",
    "    if i.split('-')[1]=='01' or i.split('-')[1]=='02' or i.split('-')[1]=='03':\n",
    "        df['season'].iloc[cnt]='Spring'\n",
    "    elif i.split('-')[1]=='04' or i.split('-')[1]=='05' or i.split('-')[1]=='06':\n",
    "        df['season'].iloc[cnt]='Summer'\n",
    "    elif i.split('-')[1]=='07' or i.split('-')[1]=='08' or i.split('-')[1]=='09':\n",
    "        df['season'].iloc[cnt]='Fall'\n",
    "    elif i.split('-')[1]=='10' or i.split('-')[1]=='11' or i.split('-')[1]=='12':\n",
    "        df['season'].iloc[cnt]='Winter'\n",
    "    cnt+=1\n",
    "#Season has no nans\n",
    "df.season.isna().sum()"
   ]
  },
  {
   "cell_type": "code",
   "execution_count": 8,
   "id": "601bf77e",
   "metadata": {},
   "outputs": [
    {
     "data": {
      "text/plain": [
       "0"
      ]
     },
     "execution_count": 8,
     "metadata": {},
     "output_type": "execute_result"
    }
   ],
   "source": [
    "#Correct nans in holiday\n",
    "df['holiday'].fillna(0.0,axis=0,inplace=True)\n",
    "#No nans\n",
    "df.holiday.isna().sum()"
   ]
  },
  {
   "cell_type": "code",
   "execution_count": 9,
   "id": "c823efac",
   "metadata": {},
   "outputs": [
    {
     "data": {
      "text/plain": [
       "0"
      ]
     },
     "execution_count": 9,
     "metadata": {},
     "output_type": "execute_result"
    }
   ],
   "source": [
    "#Correct nans in workingday\n",
    "df['workingday'].fillna(1.0,axis=0,inplace=True)\n",
    "#No nans\n",
    "df.workingday.isna().sum()"
   ]
  },
  {
   "cell_type": "code",
   "execution_count": 10,
   "id": "8962c2e3",
   "metadata": {},
   "outputs": [
    {
     "data": {
      "text/plain": [
       "0"
      ]
     },
     "execution_count": 10,
     "metadata": {},
     "output_type": "execute_result"
    }
   ],
   "source": [
    "#Correct nans into weather\n",
    "df['weather'].fillna('Clear',axis=0,inplace=True)\n",
    "#No nans\n",
    "df.weather.isna().sum()"
   ]
  },
  {
   "cell_type": "code",
   "execution_count": 11,
   "id": "50a6b437",
   "metadata": {},
   "outputs": [
    {
     "data": {
      "text/plain": [
       "0"
      ]
     },
     "execution_count": 11,
     "metadata": {},
     "output_type": "execute_result"
    }
   ],
   "source": [
    "#Correct nans into temp\n",
    "df['temp'].fillna(df['temp'].mean(),axis=0,inplace=True)\n",
    "#No nans\n",
    "df.temp.isna().sum()"
   ]
  },
  {
   "cell_type": "code",
   "execution_count": 12,
   "id": "2c6c9965",
   "metadata": {},
   "outputs": [
    {
     "data": {
      "text/plain": [
       "0"
      ]
     },
     "execution_count": 12,
     "metadata": {},
     "output_type": "execute_result"
    }
   ],
   "source": [
    "#Correct nans into humidity\n",
    "df['humidity'].fillna(df['humidity'].mean(),axis=0,inplace=True)\n",
    "#No nans\n",
    "df.humidity.isna().sum()"
   ]
  },
  {
   "cell_type": "code",
   "execution_count": 13,
   "id": "a5c6d0ba",
   "metadata": {},
   "outputs": [
    {
     "data": {
      "text/plain": [
       "0"
      ]
     },
     "execution_count": 13,
     "metadata": {},
     "output_type": "execute_result"
    }
   ],
   "source": [
    "#Correct nans into windspeed\n",
    "df['windspeed'].fillna(df['windspeed'].mean(),axis=0,inplace=True)\n",
    "#No nans\n",
    "df.windspeed.isna().sum()"
   ]
  },
  {
   "cell_type": "code",
   "execution_count": 15,
   "id": "b4929280",
   "metadata": {},
   "outputs": [
    {
     "name": "stdout",
     "output_type": "stream",
     "text": [
      "<class 'pandas.core.frame.DataFrame'>\n",
      "RangeIndex: 10886 entries, 0 to 10885\n",
      "Data columns (total 12 columns):\n",
      " #   Column              Non-Null Count  Dtype  \n",
      "---  ------              --------------  -----  \n",
      " 0   season              10886 non-null  object \n",
      " 1   holiday             10886 non-null  float64\n",
      " 2   workingday          10886 non-null  float64\n",
      " 3   weather             10886 non-null  object \n",
      " 4   temp                10886 non-null  float64\n",
      " 5   humidity            10886 non-null  float64\n",
      " 6   windspeed           10886 non-null  float64\n",
      " 7   casual              10886 non-null  int64  \n",
      " 8   registered          10886 non-null  int64  \n",
      " 9   rented_bikes_count  10886 non-null  int64  \n",
      " 10  Date                10886 non-null  object \n",
      " 11  Time                10886 non-null  object \n",
      "dtypes: float64(5), int64(3), object(4)\n",
      "memory usage: 1020.7+ KB\n"
     ]
    }
   ],
   "source": [
    "#We have no nans\n",
    "#Data are clean\n",
    "df.info()"
   ]
  },
  {
   "cell_type": "code",
   "execution_count": 16,
   "id": "1f4fa597",
   "metadata": {},
   "outputs": [],
   "source": [
    "#Let's make a profit feature\n",
    "df['Registered_Profit']=df['registered']*5\n",
    "df['Casual_Profit']=df['casual']*20\n",
    "#Taxes\n",
    "df['Taxes']=0.14\n",
    "#Profit\n",
    "df['Profit']=(df['Registered_Profit']+df['Casual_Profit'])*(1-df['Taxes'])"
   ]
  },
  {
   "cell_type": "code",
   "execution_count": 17,
   "id": "11c52817",
   "metadata": {},
   "outputs": [
    {
     "data": {
      "text/html": [
       "<div>\n",
       "<style scoped>\n",
       "    .dataframe tbody tr th:only-of-type {\n",
       "        vertical-align: middle;\n",
       "    }\n",
       "\n",
       "    .dataframe tbody tr th {\n",
       "        vertical-align: top;\n",
       "    }\n",
       "\n",
       "    .dataframe thead th {\n",
       "        text-align: right;\n",
       "    }\n",
       "</style>\n",
       "<table border=\"1\" class=\"dataframe\">\n",
       "  <thead>\n",
       "    <tr style=\"text-align: right;\">\n",
       "      <th></th>\n",
       "      <th>season</th>\n",
       "      <th>holiday</th>\n",
       "      <th>workingday</th>\n",
       "      <th>weather</th>\n",
       "      <th>temp</th>\n",
       "      <th>humidity</th>\n",
       "      <th>windspeed</th>\n",
       "      <th>casual</th>\n",
       "      <th>registered</th>\n",
       "      <th>rented_bikes_count</th>\n",
       "      <th>Date</th>\n",
       "      <th>Time</th>\n",
       "      <th>Registered_Profit</th>\n",
       "      <th>Casual_Profit</th>\n",
       "      <th>Taxes</th>\n",
       "      <th>Profit</th>\n",
       "    </tr>\n",
       "  </thead>\n",
       "  <tbody>\n",
       "    <tr>\n",
       "      <th>0</th>\n",
       "      <td>Spring</td>\n",
       "      <td>0.0</td>\n",
       "      <td>0.0</td>\n",
       "      <td>Clear</td>\n",
       "      <td>9.840000</td>\n",
       "      <td>81.000000</td>\n",
       "      <td>12.708806</td>\n",
       "      <td>3</td>\n",
       "      <td>13</td>\n",
       "      <td>16</td>\n",
       "      <td>2011-01-01</td>\n",
       "      <td>00:00:00</td>\n",
       "      <td>65</td>\n",
       "      <td>60</td>\n",
       "      <td>0.14</td>\n",
       "      <td>107.5</td>\n",
       "    </tr>\n",
       "    <tr>\n",
       "      <th>1</th>\n",
       "      <td>Spring</td>\n",
       "      <td>0.0</td>\n",
       "      <td>0.0</td>\n",
       "      <td>Clear</td>\n",
       "      <td>9.020000</td>\n",
       "      <td>80.000000</td>\n",
       "      <td>0.000000</td>\n",
       "      <td>8</td>\n",
       "      <td>32</td>\n",
       "      <td>40</td>\n",
       "      <td>2011-01-01</td>\n",
       "      <td>01:00:00</td>\n",
       "      <td>160</td>\n",
       "      <td>160</td>\n",
       "      <td>0.14</td>\n",
       "      <td>275.2</td>\n",
       "    </tr>\n",
       "    <tr>\n",
       "      <th>2</th>\n",
       "      <td>Spring</td>\n",
       "      <td>0.0</td>\n",
       "      <td>0.0</td>\n",
       "      <td>Clear</td>\n",
       "      <td>9.020000</td>\n",
       "      <td>61.790673</td>\n",
       "      <td>0.000000</td>\n",
       "      <td>5</td>\n",
       "      <td>27</td>\n",
       "      <td>32</td>\n",
       "      <td>2011-01-01</td>\n",
       "      <td>02:00:00</td>\n",
       "      <td>135</td>\n",
       "      <td>100</td>\n",
       "      <td>0.14</td>\n",
       "      <td>202.1</td>\n",
       "    </tr>\n",
       "    <tr>\n",
       "      <th>3</th>\n",
       "      <td>Spring</td>\n",
       "      <td>0.0</td>\n",
       "      <td>0.0</td>\n",
       "      <td>Clear</td>\n",
       "      <td>9.840000</td>\n",
       "      <td>75.000000</td>\n",
       "      <td>0.000000</td>\n",
       "      <td>3</td>\n",
       "      <td>10</td>\n",
       "      <td>13</td>\n",
       "      <td>2011-01-01</td>\n",
       "      <td>03:00:00</td>\n",
       "      <td>50</td>\n",
       "      <td>60</td>\n",
       "      <td>0.14</td>\n",
       "      <td>94.6</td>\n",
       "    </tr>\n",
       "    <tr>\n",
       "      <th>4</th>\n",
       "      <td>Spring</td>\n",
       "      <td>0.0</td>\n",
       "      <td>0.0</td>\n",
       "      <td>Clear</td>\n",
       "      <td>20.317665</td>\n",
       "      <td>75.000000</td>\n",
       "      <td>12.708806</td>\n",
       "      <td>0</td>\n",
       "      <td>1</td>\n",
       "      <td>1</td>\n",
       "      <td>2011-01-01</td>\n",
       "      <td>04:00:00</td>\n",
       "      <td>5</td>\n",
       "      <td>0</td>\n",
       "      <td>0.14</td>\n",
       "      <td>4.3</td>\n",
       "    </tr>\n",
       "  </tbody>\n",
       "</table>\n",
       "</div>"
      ],
      "text/plain": [
       "   season  holiday  workingday weather       temp   humidity  windspeed  \\\n",
       "0  Spring      0.0         0.0   Clear   9.840000  81.000000  12.708806   \n",
       "1  Spring      0.0         0.0   Clear   9.020000  80.000000   0.000000   \n",
       "2  Spring      0.0         0.0   Clear   9.020000  61.790673   0.000000   \n",
       "3  Spring      0.0         0.0   Clear   9.840000  75.000000   0.000000   \n",
       "4  Spring      0.0         0.0   Clear  20.317665  75.000000  12.708806   \n",
       "\n",
       "   casual  registered  rented_bikes_count        Date      Time  \\\n",
       "0       3          13                  16  2011-01-01  00:00:00   \n",
       "1       8          32                  40  2011-01-01  01:00:00   \n",
       "2       5          27                  32  2011-01-01  02:00:00   \n",
       "3       3          10                  13  2011-01-01  03:00:00   \n",
       "4       0           1                   1  2011-01-01  04:00:00   \n",
       "\n",
       "   Registered_Profit  Casual_Profit  Taxes  Profit  \n",
       "0                 65             60   0.14   107.5  \n",
       "1                160            160   0.14   275.2  \n",
       "2                135            100   0.14   202.1  \n",
       "3                 50             60   0.14    94.6  \n",
       "4                  5              0   0.14     4.3  "
      ]
     },
     "execution_count": 17,
     "metadata": {},
     "output_type": "execute_result"
    }
   ],
   "source": [
    "df.head()"
   ]
  },
  {
   "cell_type": "code",
   "execution_count": 18,
   "id": "6896c069",
   "metadata": {},
   "outputs": [
    {
     "data": {
      "image/png": "[encoded data removed]",
      "text/plain": [
       "<Figure size 432x432 with 3 Axes>"
      ]
     },
     "metadata": {
      "needs_background": "light"
     },
     "output_type": "display_data"
    }
   ],
   "source": [
    "#Distribution rental_bikes_count & profit.\n",
    "sns.jointplot(x='rented_bikes_count',y='Profit',data=df);"
   ]
  },
  {
   "cell_type": "code",
   "execution_count": 19,
   "id": "6dc851ef",
   "metadata": {},
   "outputs": [
    {
     "data": {
      "text/plain": [
       "Date\n",
       "2011-01-01     8505.4\n",
       "2011-01-02     5134.2\n",
       "2011-01-03     7348.7\n",
       "2011-01-04     8109.8\n",
       "2011-01-05     7937.8\n",
       "               ...   \n",
       "2012-12-15    31596.4\n",
       "2012-12-16    23220.0\n",
       "2012-12-17    22450.3\n",
       "2012-12-18    29480.8\n",
       "2012-12-19    26943.8\n",
       "Name: Profit, Length: 456, dtype: float64"
      ]
     },
     "execution_count": 19,
     "metadata": {},
     "output_type": "execute_result"
    }
   ],
   "source": [
    "#Profit for each day\n",
    "df.groupby(['Date']).sum()['Profit']"
   ]
  },
  {
   "cell_type": "code",
   "execution_count": 20,
   "id": "8d16791f",
   "metadata": {},
   "outputs": [
    {
     "data": {
      "text/html": [
       "<div>\n",
       "<style scoped>\n",
       "    .dataframe tbody tr th:only-of-type {\n",
       "        vertical-align: middle;\n",
       "    }\n",
       "\n",
       "    .dataframe tbody tr th {\n",
       "        vertical-align: top;\n",
       "    }\n",
       "\n",
       "    .dataframe thead th {\n",
       "        text-align: right;\n",
       "    }\n",
       "</style>\n",
       "<table border=\"1\" class=\"dataframe\">\n",
       "  <thead>\n",
       "    <tr style=\"text-align: right;\">\n",
       "      <th></th>\n",
       "      <th>registered</th>\n",
       "      <th>Profit</th>\n",
       "    </tr>\n",
       "    <tr>\n",
       "      <th>season</th>\n",
       "      <th></th>\n",
       "      <th></th>\n",
       "    </tr>\n",
       "  </thead>\n",
       "  <tbody>\n",
       "    <tr>\n",
       "      <th>Fall</th>\n",
       "      <td>497944</td>\n",
       "      <td>4595908.8</td>\n",
       "    </tr>\n",
       "  </tbody>\n",
       "</table>\n",
       "</div>"
      ],
      "text/plain": [
       "        registered     Profit\n",
       "season                       \n",
       "Fall        497944  4595908.8"
      ]
     },
     "execution_count": 20,
     "metadata": {},
     "output_type": "execute_result"
    }
   ],
   "source": [
    "#Which season that has more registration & profit.\n",
    "df.groupby('season').sum()[['registered','Profit']].head(1)"
   ]
  },
  {
   "cell_type": "code",
   "execution_count": 21,
   "id": "3c4a0614",
   "metadata": {},
   "outputs": [
    {
     "data": {
      "text/html": [
       "<div>\n",
       "<style scoped>\n",
       "    .dataframe tbody tr th:only-of-type {\n",
       "        vertical-align: middle;\n",
       "    }\n",
       "\n",
       "    .dataframe tbody tr th {\n",
       "        vertical-align: top;\n",
       "    }\n",
       "\n",
       "    .dataframe thead th {\n",
       "        text-align: right;\n",
       "    }\n",
       "</style>\n",
       "<table border=\"1\" class=\"dataframe\">\n",
       "  <thead>\n",
       "    <tr style=\"text-align: right;\">\n",
       "      <th></th>\n",
       "      <th>registered</th>\n",
       "      <th>Profit</th>\n",
       "    </tr>\n",
       "    <tr>\n",
       "      <th>weather</th>\n",
       "      <th></th>\n",
       "      <th></th>\n",
       "    </tr>\n",
       "  </thead>\n",
       "  <tbody>\n",
       "    <tr>\n",
       "      <th>Clear</th>\n",
       "      <td>1286750</td>\n",
       "      <td>10869875.4</td>\n",
       "    </tr>\n",
       "  </tbody>\n",
       "</table>\n",
       "</div>"
      ],
      "text/plain": [
       "         registered      Profit\n",
       "weather                        \n",
       "Clear       1286750  10869875.4"
      ]
     },
     "execution_count": 21,
     "metadata": {},
     "output_type": "execute_result"
    }
   ],
   "source": [
    "#Which weather condition that has more registration & profit.\n",
    "df.groupby('weather').sum()[['registered','Profit']].head(1)"
   ]
  },
  {
   "cell_type": "code",
   "execution_count": 22,
   "id": "5e1679c7",
   "metadata": {},
   "outputs": [
    {
     "data": {
      "text/html": [
       "<div>\n",
       "<style scoped>\n",
       "    .dataframe tbody tr th:only-of-type {\n",
       "        vertical-align: middle;\n",
       "    }\n",
       "\n",
       "    .dataframe tbody tr th {\n",
       "        vertical-align: top;\n",
       "    }\n",
       "\n",
       "    .dataframe thead th {\n",
       "        text-align: right;\n",
       "    }\n",
       "</style>\n",
       "<table border=\"1\" class=\"dataframe\">\n",
       "  <thead>\n",
       "    <tr style=\"text-align: right;\">\n",
       "      <th></th>\n",
       "      <th>rented_bikes_count</th>\n",
       "      <th>Profit</th>\n",
       "    </tr>\n",
       "  </thead>\n",
       "  <tbody>\n",
       "    <tr>\n",
       "      <th>rented_bikes_count</th>\n",
       "      <td>1.00000</td>\n",
       "      <td>0.93449</td>\n",
       "    </tr>\n",
       "    <tr>\n",
       "      <th>Profit</th>\n",
       "      <td>0.93449</td>\n",
       "      <td>1.00000</td>\n",
       "    </tr>\n",
       "  </tbody>\n",
       "</table>\n",
       "</div>"
      ],
      "text/plain": [
       "                    rented_bikes_count   Profit\n",
       "rented_bikes_count             1.00000  0.93449\n",
       "Profit                         0.93449  1.00000"
      ]
     },
     "execution_count": 22,
     "metadata": {},
     "output_type": "execute_result"
    }
   ],
   "source": [
    "#Correlation between profit & bikes count with all features.\n",
    "df[['rented_bikes_count','Profit']].corr()"
   ]
  },
  {
   "cell_type": "code",
   "execution_count": 23,
   "id": "edeb11f6",
   "metadata": {},
   "outputs": [
    {
     "name": "stdout",
     "output_type": "stream",
     "text": [
      "Rentals during rush hours(7:9)AM:362938\n",
      "Rentals during rush hours(3:5)PM:473983\n"
     ]
    }
   ],
   "source": [
    "#Rentals during rush hours (7-9 am & 3-5 pm).\n",
    "sm1=0\n",
    "sm2=0\n",
    "cnt=0\n",
    "for i in df['Time']:\n",
    "    if i=='07:00:00' or i=='08:00:00' or i=='09:00:00':\n",
    "        sm1+=df['rented_bikes_count'].iloc[cnt]\n",
    "    elif i=='15:00:00' or i=='16:00:00' or i=='17:00:00':\n",
    "        sm2+=df['rented_bikes_count'].iloc[cnt]\n",
    "    cnt+=1\n",
    "print(f'Rentals during rush hours(7:9)AM:{sm1}')\n",
    "print(f'Rentals during rush hours(3:5)PM:{sm2}')"
   ]
  },
  {
   "cell_type": "code",
   "execution_count": 24,
   "id": "6cee1c55",
   "metadata": {},
   "outputs": [
    {
     "data": {
      "text/plain": [
       "workingday\n",
       "0.0     569063\n",
       "1.0    1516413\n",
       "Name: rented_bikes_count, dtype: int64"
      ]
     },
     "execution_count": 24,
     "metadata": {},
     "output_type": "execute_result"
    }
   ],
   "source": [
    "#Rentals during workday\n",
    "df.groupby('workingday').sum()['rented_bikes_count']"
   ]
  },
  {
   "cell_type": "code",
   "execution_count": 25,
   "id": "c134d250",
   "metadata": {},
   "outputs": [
    {
     "data": {
      "text/plain": [
       "holiday\n",
       "0.0    2031348\n",
       "1.0      54128\n",
       "Name: rented_bikes_count, dtype: int64"
      ]
     },
     "execution_count": 25,
     "metadata": {},
     "output_type": "execute_result"
    }
   ],
   "source": [
    "#Rentals during holiday.\n",
    "df.groupby('holiday').sum()['rented_bikes_count']"
   ]
  },
  {
   "cell_type": "code",
   "execution_count": 26,
   "id": "bdc02165",
   "metadata": {},
   "outputs": [
    {
     "data": {
      "text/plain": [
       "registered    1693341\n",
       "casual         392135\n",
       "dtype: int64"
      ]
     },
     "execution_count": 26,
     "metadata": {},
     "output_type": "execute_result"
    }
   ],
   "source": [
    "#Registered or casual is more.\n",
    "df[['registered','casual']].sum()"
   ]
  },
  {
   "cell_type": "code",
   "execution_count": 27,
   "id": "b26c3853",
   "metadata": {},
   "outputs": [
    {
     "data": {
      "text/plain": [
       "25994.269736842107"
      ]
     },
     "execution_count": 27,
     "metadata": {},
     "output_type": "execute_result"
    }
   ],
   "source": [
    "#What is the average of bikes would be registered during the week.\n",
    "num_weeks=len(df.groupby('Date').sum())/7\n",
    "Mean=(df['registered'].sum())/num_weeks\n",
    "Mean"
   ]
  },
  {
   "cell_type": "code",
   "execution_count": 88,
   "id": "9e67d91c",
   "metadata": {},
   "outputs": [
    {
     "name": "stdout",
     "output_type": "stream",
     "text": [
      "Schools months(9:12) profit=4853349.800000013\n",
      "Schools months(2:6) profit=5645775.299999993\n"
     ]
    }
   ],
   "source": [
    "#Schools months(9-12) & (2-6) profit\n",
    "idx=0\n",
    "sum_pro_9_12=0\n",
    "sum_pro_2_6=0\n",
    "for i in df['Date']:\n",
    "    if i.split('-')[1]=='09' or i.split('-')[1]=='10' or i.split('-')[1]=='11' or i.split('-')[1]=='12':\n",
    "        sum_pro_9_12+=df['Profit'].iloc[idx]\n",
    "    elif i.split('-')[1]=='02' or i.split('-')[1]=='03'or i.split('-')[1]=='04'or i.split('-')[1]=='05'or i.split('-')[1]=='06':\n",
    "        sum_pro_2_6+=df['Profit'].iloc[idx]\n",
    "    idx+=1\n",
    "print(f\"Schools months(9:12) profit={sum_pro_9_12}\")\n",
    "print(f\"Schools months(2:6) profit={sum_pro_2_6}\")"
   ]
  },
  {
   "cell_type": "code",
   "execution_count": 89,
   "id": "4f0e2868",
   "metadata": {},
   "outputs": [
    {
     "name": "stdout",
     "output_type": "stream",
     "text": [
      "Schools(9-12)profit=2901390.599999999\n",
      "Schools(2-6)profit=5504666.499999998\n"
     ]
    }
   ],
   "source": [
    "#Schools (9-12 AM) & (2-6 PM) profit.\n",
    "cnt=0\n",
    "sum_pro_am=0\n",
    "sum_pro_pm=0\n",
    "for i in df['Time']:\n",
    "    if i=='09:00:00' or i=='10:00:00' or i=='11:00:00' or i=='12:00:00':\n",
    "        sum_pro_am+=df['Profit'].iloc[cnt]\n",
    "    elif i=='14:00:00' or i=='15:00:00' or i=='16:00:00' or i=='17:00:00' or i=='18:00:00':\n",
    "        sum_pro_pm+=df['Profit'].iloc[cnt]\n",
    "    cnt+=1\n",
    "print(f\"Schools(9-12)profit={sum_pro_am}\")\n",
    "print(f\"Schools(2-6)profit={sum_pro_pm}\")"
   ]
  },
  {
   "cell_type": "code",
   "execution_count": 59,
   "id": "cace7e37",
   "metadata": {},
   "outputs": [
    {
     "data": {
      "text/html": [
       "<div>\n",
       "<style scoped>\n",
       "    .dataframe tbody tr th:only-of-type {\n",
       "        vertical-align: middle;\n",
       "    }\n",
       "\n",
       "    .dataframe tbody tr th {\n",
       "        vertical-align: top;\n",
       "    }\n",
       "\n",
       "    .dataframe thead th {\n",
       "        text-align: right;\n",
       "    }\n",
       "</style>\n",
       "<table border=\"1\" class=\"dataframe\">\n",
       "  <thead>\n",
       "    <tr style=\"text-align: right;\">\n",
       "      <th></th>\n",
       "      <th>season</th>\n",
       "      <th>holiday</th>\n",
       "      <th>workingday</th>\n",
       "      <th>weather</th>\n",
       "      <th>temp</th>\n",
       "      <th>humidity</th>\n",
       "      <th>windspeed</th>\n",
       "      <th>casual</th>\n",
       "      <th>registered</th>\n",
       "      <th>rented_bikes_count</th>\n",
       "      <th>Date</th>\n",
       "      <th>Time</th>\n",
       "      <th>Registered_Profit</th>\n",
       "      <th>Casual_Profit</th>\n",
       "      <th>Taxes</th>\n",
       "      <th>Profit</th>\n",
       "      <th>Days</th>\n",
       "    </tr>\n",
       "  </thead>\n",
       "  <tbody>\n",
       "    <tr>\n",
       "      <th>0</th>\n",
       "      <td>Spring</td>\n",
       "      <td>0.0</td>\n",
       "      <td>0.0</td>\n",
       "      <td>Clear</td>\n",
       "      <td>9.840000</td>\n",
       "      <td>81.000000</td>\n",
       "      <td>12.708806</td>\n",
       "      <td>3</td>\n",
       "      <td>13</td>\n",
       "      <td>16</td>\n",
       "      <td>2011-01-01</td>\n",
       "      <td>00:00:00</td>\n",
       "      <td>65</td>\n",
       "      <td>60</td>\n",
       "      <td>0.14</td>\n",
       "      <td>107.5</td>\n",
       "      <td>Saturday</td>\n",
       "    </tr>\n",
       "    <tr>\n",
       "      <th>1</th>\n",
       "      <td>Spring</td>\n",
       "      <td>0.0</td>\n",
       "      <td>0.0</td>\n",
       "      <td>Clear</td>\n",
       "      <td>9.020000</td>\n",
       "      <td>80.000000</td>\n",
       "      <td>0.000000</td>\n",
       "      <td>8</td>\n",
       "      <td>32</td>\n",
       "      <td>40</td>\n",
       "      <td>2011-01-01</td>\n",
       "      <td>01:00:00</td>\n",
       "      <td>160</td>\n",
       "      <td>160</td>\n",
       "      <td>0.14</td>\n",
       "      <td>275.2</td>\n",
       "      <td>Saturday</td>\n",
       "    </tr>\n",
       "    <tr>\n",
       "      <th>2</th>\n",
       "      <td>Spring</td>\n",
       "      <td>0.0</td>\n",
       "      <td>0.0</td>\n",
       "      <td>Clear</td>\n",
       "      <td>9.020000</td>\n",
       "      <td>61.790673</td>\n",
       "      <td>0.000000</td>\n",
       "      <td>5</td>\n",
       "      <td>27</td>\n",
       "      <td>32</td>\n",
       "      <td>2011-01-01</td>\n",
       "      <td>02:00:00</td>\n",
       "      <td>135</td>\n",
       "      <td>100</td>\n",
       "      <td>0.14</td>\n",
       "      <td>202.1</td>\n",
       "      <td>Saturday</td>\n",
       "    </tr>\n",
       "    <tr>\n",
       "      <th>3</th>\n",
       "      <td>Spring</td>\n",
       "      <td>0.0</td>\n",
       "      <td>0.0</td>\n",
       "      <td>Clear</td>\n",
       "      <td>9.840000</td>\n",
       "      <td>75.000000</td>\n",
       "      <td>0.000000</td>\n",
       "      <td>3</td>\n",
       "      <td>10</td>\n",
       "      <td>13</td>\n",
       "      <td>2011-01-01</td>\n",
       "      <td>03:00:00</td>\n",
       "      <td>50</td>\n",
       "      <td>60</td>\n",
       "      <td>0.14</td>\n",
       "      <td>94.6</td>\n",
       "      <td>Saturday</td>\n",
       "    </tr>\n",
       "    <tr>\n",
       "      <th>4</th>\n",
       "      <td>Spring</td>\n",
       "      <td>0.0</td>\n",
       "      <td>0.0</td>\n",
       "      <td>Clear</td>\n",
       "      <td>20.317665</td>\n",
       "      <td>75.000000</td>\n",
       "      <td>12.708806</td>\n",
       "      <td>0</td>\n",
       "      <td>1</td>\n",
       "      <td>1</td>\n",
       "      <td>2011-01-01</td>\n",
       "      <td>04:00:00</td>\n",
       "      <td>5</td>\n",
       "      <td>0</td>\n",
       "      <td>0.14</td>\n",
       "      <td>4.3</td>\n",
       "      <td>Saturday</td>\n",
       "    </tr>\n",
       "  </tbody>\n",
       "</table>\n",
       "</div>"
      ],
      "text/plain": [
       "   season  holiday  workingday weather       temp   humidity  windspeed  \\\n",
       "0  Spring      0.0         0.0   Clear   9.840000  81.000000  12.708806   \n",
       "1  Spring      0.0         0.0   Clear   9.020000  80.000000   0.000000   \n",
       "2  Spring      0.0         0.0   Clear   9.020000  61.790673   0.000000   \n",
       "3  Spring      0.0         0.0   Clear   9.840000  75.000000   0.000000   \n",
       "4  Spring      0.0         0.0   Clear  20.317665  75.000000  12.708806   \n",
       "\n",
       "   casual  registered  rented_bikes_count        Date      Time  \\\n",
       "0       3          13                  16  2011-01-01  00:00:00   \n",
       "1       8          32                  40  2011-01-01  01:00:00   \n",
       "2       5          27                  32  2011-01-01  02:00:00   \n",
       "3       3          10                  13  2011-01-01  03:00:00   \n",
       "4       0           1                   1  2011-01-01  04:00:00   \n",
       "\n",
       "   Registered_Profit  Casual_Profit  Taxes  Profit      Days  \n",
       "0                 65             60   0.14   107.5  Saturday  \n",
       "1                160            160   0.14   275.2  Saturday  \n",
       "2                135            100   0.14   202.1  Saturday  \n",
       "3                 50             60   0.14    94.6  Saturday  \n",
       "4                  5              0   0.14     4.3  Saturday  "
      ]
     },
     "execution_count": 59,
     "metadata": {},
     "output_type": "execute_result"
    }
   ],
   "source": [
    "#Make a days feature\n",
    "df['Days']=pd.to_datetime(df['Date'])\n",
    "df['Days']=df['Days'].dt.day_name()\n",
    "df.head()"
   ]
  },
  {
   "cell_type": "code",
   "execution_count": 77,
   "id": "91b5d1cd",
   "metadata": {},
   "outputs": [
    {
     "name": "stdout",
     "output_type": "stream",
     "text": [
      "2011 profit=5372548.999999997\n"
     ]
    }
   ],
   "source": [
    "#2011 profit\n",
    "year_2011_prof=0\n",
    "idx=0\n",
    "for i in df['Date']:\n",
    "    if i.split('-')[0]=='2011':\n",
    "        year_2011_prof+=df['Profit'].iloc[idx]\n",
    "    idx+=1\n",
    "print(f\"2011 profit={year_2011_prof}\")"
   ]
  },
  {
   "cell_type": "code",
   "execution_count": 69,
   "id": "d3383a8f",
   "metadata": {},
   "outputs": [
    {
     "data": {
      "text/plain": [
       "2639615.1999999983"
      ]
     },
     "execution_count": 69,
     "metadata": {},
     "output_type": "execute_result"
    }
   ],
   "source": [
    "#Saturdays profit\n",
    "df.groupby('Days').sum()['Profit']['Saturday']"
   ]
  },
  {
   "cell_type": "code",
   "execution_count": 72,
   "id": "60428ee4",
   "metadata": {},
   "outputs": [
    {
     "data": {
      "text/plain": [
       "4595908.799999997"
      ]
     },
     "execution_count": 72,
     "metadata": {},
     "output_type": "execute_result"
    }
   ],
   "source": [
    "#Season fall profit\n",
    "df.groupby('season').sum()['Profit']['Fall']"
   ]
  }
 ],
 "metadata": {
  "kernelspec": {
   "display_name": "Python 3",
   "language": "python",
   "name": "python3"
  },
  "language_info": {
   "codemirror_mode": {
    "name": "ipython",
    "version": 3
   },
   "file_extension": ".py",
   "mimetype": "text/x-python",
   "name": "python",
   "nbconvert_exporter": "python",
   "pygments_lexer": "ipython3",
   "version": "3.8.8"
  }
 },
 "nbformat": 4,
 "nbformat_minor": 5
}
